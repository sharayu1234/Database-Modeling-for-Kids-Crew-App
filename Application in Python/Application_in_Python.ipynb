{
  "cells": [
    {
      "cell_type": "code",
      "execution_count": null,
      "id": "4530384d",
      "metadata": {
        "id": "4530384d"
      },
      "outputs": [],
      "source": [
        "#!pip install mysql-connector-python\n",
        "import mysql.connector\n",
        "from mysql.connector import Error\n",
        "import matplotlib.pyplot as plt\n",
        "import pandas as pd"
      ]
    },
    {
      "cell_type": "code",
      "execution_count": null,
      "id": "a846753b",
      "metadata": {
        "id": "a846753b",
        "outputId": "31aeb4bf-17dd-4e3f-e36f-7613135b17a0"
      },
      "outputs": [
        {
          "name": "stdout",
          "output_type": "stream",
          "text": [
            "Connected to MySQL Server version  8.0.31\n",
            "Your connected to database:  ('kids_crew_new',)\n",
            "[('children', 38), ('toddlers', 34), ('infants', 28)]\n"
          ]
        },
        {
          "data": {
            "image/png": "[encoded data removed]",
            "text/plain": [
              "<Figure size 432x288 with 1 Axes>"
            ]
          },
          "metadata": {},
          "output_type": "display_data"
        }
      ],
      "source": [
        "#Which age group demands more babysitting\n",
        "\n",
        "try:\n",
        "    connection = mysql.connector.connect(host='localhost',\n",
        "                                         database='kids_crew_new',\n",
        "                                         user='root',\n",
        "                                         password='root',\n",
        "                                         auth_plugin = 'mysql_native_password')\n",
        "    if connection.is_connected():\n",
        "        db_Info = connection.get_server_info()\n",
        "        print(\"Connected to MySQL Server version \", db_Info)\n",
        "        cursor = connection.cursor()\n",
        "        cursor.execute(\"select database();\")\n",
        "        record = cursor.fetchone()\n",
        "        print(\"Your connected to database: \", record)\n",
        "#\n",
        "        sql_select_Query = \"SELECT AGE_GROUP as AgeGroup, count(BID) as NumOfSitters FROM kids_crew_new.children group by age_group order by NumOfSitters desc;\"\n",
        "        cursor = connection.cursor()\n",
        "        cursor.execute(sql_select_Query)\n",
        "        records = cursor.fetchall()\n",
        "        print(records)\n",
        "        x_val = [x[0] for x in records]\n",
        "        y_val = [x[1] for x in records]\n",
        "        colors = ['pink', 'silver', 'steelblue']\n",
        "        myexplode = [0.2, 0, 0]\n",
        "        plt.pie(y_val, labels = x_val,startangle = 90,colors=colors,explode = myexplode)\n",
        "        plt.show()\n",
        "except Error as e:\n",
        "    print(\"Error while connecting to MySQL\", e)"
      ]
    },
    {
      "cell_type": "markdown",
      "id": "88247882",
      "metadata": {
        "id": "88247882"
      },
      "source": [
        "**Children are in high demand for babysiting**"
      ]
    },
    {
      "cell_type": "code",
      "execution_count": null,
      "id": "181f64ce",
      "metadata": {
        "id": "181f64ce",
        "outputId": "70673a47-3c66-4275-9fec-e8dfa3ea15cb"
      },
      "outputs": [
        {
          "name": "stdout",
          "output_type": "stream",
          "text": [
            "Connected to MySQL Server version  8.0.31\n",
            "Your connected to database:  ('kids_crew_new',)\n"
          ]
        },
        {
          "data": {
            "image/png": "[encoded data removed]",
            "text/plain": [
              "<Figure size 432x288 with 1 Axes>"
            ]
          },
          "metadata": {
            "needs_background": "light"
          },
          "output_type": "display_data"
        }
      ],
      "source": [
        "# Total hrs logged for infants, toddlers and children\n",
        "#SELECT sum(hrs_logged_infants),sum(hrs_logged_toddlers),sum(hrs_logged_children) FROM kidscrew.experience;\n",
        "try:\n",
        "    connection = mysql.connector.connect(host='localhost',\n",
        "                                         database='kids_crew_new',\n",
        "                                         user='root',\n",
        "                                         password='root',\n",
        "                                         auth_plugin = 'mysql_native_password')\n",
        "    if connection.is_connected():\n",
        "        db_Info = connection.get_server_info()\n",
        "        print(\"Connected to MySQL Server version \", db_Info)\n",
        "        cursor = connection.cursor()\n",
        "        cursor.execute(\"select database();\")\n",
        "        record = cursor.fetchone()\n",
        "        print(\"Your connected to database: \", record)\n",
        "#\n",
        "        sql_select_Query = \"SELECT hrs_logged_infants FROM kids_crew_new.experience;\"\n",
        "        \n",
        "        cursor = connection.cursor()\n",
        "        cursor.execute(sql_select_Query)\n",
        "        r1 = cursor.fetchall()\n",
        "        x1 = [x[0] for x in r1]\n",
        "        #print(x_val)\n",
        "        \n",
        "        sql_select_Query = \"SELECT hrs_logged_toddlers FROM kids_crew_new.experience;\"\n",
        "        cursor = connection.cursor()\n",
        "        cursor.execute(sql_select_Query)\n",
        "        r2 = cursor.fetchall()\n",
        "        x2 = [x[0] for x in r2]\n",
        "\n",
        "        sql_select_Query = \"SELECT hrs_logged_children FROM kids_crew_new.experience;\"\n",
        "        cursor = connection.cursor()\n",
        "        cursor.execute(sql_select_Query)\n",
        "        r3 = cursor.fetchall()\n",
        "        x3 = [x[0] for x in r3]\n",
        "        \n",
        "        l = ['infants', 'toddlers','children']\n",
        "        y_val = [sum(x1),sum(x2),sum(x3)]\n",
        "                  \n",
        "    \n",
        "        plt.ylim(4000,5500)\n",
        "        plt.bar(l,y_val,color=['lightskyblue','lightsteelblue', 'cornflowerblue'])\n",
        "        plt.xlabel('Age Group')\n",
        "        plt.ylabel('Hours Babysitted')\n",
        "        plt.show()\n",
        "        \n",
        "except Error as e:\n",
        "    print(\"Error while connecting to MySQL\", e)"
      ]
    },
    {
      "cell_type": "markdown",
      "id": "fe8fb8b3",
      "metadata": {
        "id": "fe8fb8b3"
      },
      "source": [
        "**Infants require highest amount of hours for babysitting**"
      ]
    },
    {
      "cell_type": "code",
      "execution_count": null,
      "id": "91720afb",
      "metadata": {
        "id": "91720afb",
        "outputId": "1bbea470-17eb-47f0-d208-b6ba60902886"
      },
      "outputs": [
        {
          "name": "stdout",
          "output_type": "stream",
          "text": [
            "Connected to MySQL Server version  8.0.31\n",
            "Your connected to database:  ('kids_crew_new',)\n"
          ]
        },
        {
          "data": {
            "image/png": "[encoded data removed]",
            "text/plain": [
              "<Figure size 432x288 with 1 Axes>"
            ]
          },
          "metadata": {
            "needs_background": "light"
          },
          "output_type": "display_data"
        }
      ],
      "source": [
        "#histogram for hours logged \n",
        "try:\n",
        "    connection = mysql.connector.connect(host='localhost',\n",
        "                                         database='kids_crew_new',\n",
        "                                         user='root',\n",
        "                                         password='root',\n",
        "                                         auth_plugin = 'mysql_native_password')\n",
        "    if connection.is_connected():\n",
        "        db_Info = connection.get_server_info()\n",
        "        print(\"Connected to MySQL Server version \", db_Info)\n",
        "        cursor = connection.cursor()\n",
        "        cursor.execute(\"select database();\")\n",
        "        record = cursor.fetchone()\n",
        "        print(\"Your connected to database: \", record)\n",
        "#\n",
        "        sql_select_Query = \"SELECT hrs_logged_infants FROM kids_crew_new.experience;\"\n",
        "        cursor = connection.cursor()\n",
        "        cursor.execute(sql_select_Query)\n",
        "        records = cursor.fetchall()\n",
        "        #print(records)\n",
        "        a = [x[0] for x in records]\n",
        "        \n",
        "        sql_select_Query = \"SELECT hrs_logged_toddlers FROM kids_crew_new.experience;\"\n",
        "        cursor = connection.cursor()\n",
        "        cursor.execute(sql_select_Query)\n",
        "        records = cursor.fetchall()\n",
        "        #print(records)\n",
        "        b = [x[0] for x in records]\n",
        "        \n",
        "        sql_select_Query = \"SELECT hrs_logged_children FROM kids_crew_new.experience;\"\n",
        "        cursor = connection.cursor()\n",
        "        cursor.execute(sql_select_Query)\n",
        "        records = cursor.fetchall()\n",
        "        #print(records)\n",
        "        c = [x[0] for x in records]\n",
        "        \n",
        "        \n",
        "        #plt.figure(figsize=(10,10))\n",
        "        \n",
        "        plt.hist(a, bins=10, alpha=0.5, label=\"Infants\",color = 'palegreen')\n",
        "        plt.hist(b, bins=10, alpha=0.5, label=\"Toddlers\",color = 'lightskyblue')\n",
        "        plt.hist(c, bins=10, alpha=0.5, label=\"Children\",color = 'violet')\n",
        "        plt.legend(loc='upper right')\n",
        "        \n",
        "        plt.xlabel('Count',size=14)\n",
        "        plt.ylabel('Hours Logged',size=14)\n",
        "        # Show plot\n",
        "        plt.show()\n",
        "#\n",
        "except Error as e:\n",
        "    print(\"Error while connecting to MySQL\", e)"
      ]
    },
    {
      "cell_type": "markdown",
      "id": "e6127420",
      "metadata": {
        "id": "e6127420"
      },
      "source": [
        "**Infants require highest hours of babysitting**"
      ]
    },
    {
      "cell_type": "code",
      "execution_count": null,
      "id": "552a4465",
      "metadata": {
        "id": "552a4465",
        "outputId": "fdea5743-f5fb-4a3b-b65b-797910a93c20"
      },
      "outputs": [
        {
          "name": "stdout",
          "output_type": "stream",
          "text": [
            "Connected to MySQL Server version  8.0.31\n",
            "Your connected to database:  ('kids_crew_new',)\n"
          ]
        },
        {
          "data": {
            "image/png": "[encoded data removed]",
            "text/plain": [
              "<Figure size 432x288 with 1 Axes>"
            ]
          },
          "metadata": {
            "needs_background": "light"
          },
          "output_type": "display_data"
        }
      ],
      "source": [
        "# Number of babysitters for pickup drop off/ babysitting\n",
        "#SELECT count(BID) FROM kidscrew.service_type where service = 'babysitting';\n",
        "#SELECT count(BID) FROM kidscrew.service_type where service = 'pickup_dropoff';\n",
        "\n",
        "try:\n",
        "    connection = mysql.connector.connect(host='localhost',\n",
        "                                         database='kids_crew_new',\n",
        "                                         user='root',\n",
        "                                         password='root',\n",
        "                                         auth_plugin = 'mysql_native_password')\n",
        "    if connection.is_connected():\n",
        "        db_Info = connection.get_server_info()\n",
        "        print(\"Connected to MySQL Server version \", db_Info)\n",
        "        cursor = connection.cursor()\n",
        "        cursor.execute(\"select database();\")\n",
        "        record = cursor.fetchone()\n",
        "        print(\"Your connected to database: \", record)\n",
        "#\n",
        "        sql_select_Query = \"SELECT (BID) FROM kids_crew_new.service_type where service = 'babysitting';\"\n",
        "        cursor = connection.cursor()\n",
        "        cursor.execute(sql_select_Query)\n",
        "        r1 = cursor.fetchall()\n",
        "        x1 = [x[0] for x in r1]\n",
        "        \n",
        "        sql_select_Query = \"SELECT (BID) FROM kids_crew_new.service_type where service = 'pickup_dropoff';\"\n",
        "        cursor = connection.cursor()\n",
        "        cursor.execute(sql_select_Query)\n",
        "        r2 = cursor.fetchall()\n",
        "        x2 = [x[0] for x in r2]\n",
        "        \n",
        "        l = ['babysitting', 'pickup_dropoff']\n",
        "        y_val = [len(x1),len(x2)]\n",
        "    \n",
        "        plt.ylim(0,100)\n",
        "        plt.bar(l,y_val,color=['coral','gold'])\n",
        "        plt.xlabel('Service Type')\n",
        "        plt.ylabel('Number of Babysitters')\n",
        "        plt.show()\n",
        "        \n",
        "        \n",
        "except Error as e:\n",
        "    print(\"Error while connecting to MySQL\", e)"
      ]
    },
    {
      "cell_type": "markdown",
      "id": "d4f46ff8",
      "metadata": {
        "id": "d4f46ff8"
      },
      "source": [
        "**Babysitting services are provided more compared to pickup drop off service** "
      ]
    },
    {
      "cell_type": "code",
      "execution_count": null,
      "id": "ede2f734",
      "metadata": {
        "id": "ede2f734",
        "outputId": "34783bc7-4286-4a3d-e68b-715b254e5434"
      },
      "outputs": [
        {
          "name": "stdout",
          "output_type": "stream",
          "text": [
            "Connected to MySQL Server version  8.0.31\n",
            "Your connected to database:  ('kids_crew_new',)\n"
          ]
        },
        {
          "data": {
            "image/png": "[encoded data removed]",
            "text/plain": [
              "<Figure size 432x288 with 1 Axes>"
            ]
          },
          "metadata": {
            "needs_background": "light"
          },
          "output_type": "display_data"
        }
      ],
      "source": [
        "#hourly rates of babysitters\n",
        "#SELECT hourly_rate FROM kidscrew.babysitting;\n",
        "\n",
        "\n",
        "try:\n",
        "    connection = mysql.connector.connect(host='localhost',\n",
        "                                         database='kids_crew_new',\n",
        "                                         user='root',\n",
        "                                         password='root',\n",
        "                                         auth_plugin = 'mysql_native_password')\n",
        "    if connection.is_connected():\n",
        "        db_Info = connection.get_server_info()\n",
        "        print(\"Connected to MySQL Server version \", db_Info)\n",
        "        cursor = connection.cursor()\n",
        "        cursor.execute(\"select database();\")\n",
        "        record = cursor.fetchone()\n",
        "        print(\"Your connected to database: \", record)\n",
        "#\n",
        "        sql_select_Query = \"SELECT rate, rating FROM kids_crew_new.experience;\"\n",
        "        cursor = connection.cursor()\n",
        "        cursor.execute(sql_select_Query)\n",
        "        records = cursor.fetchall()\n",
        "        #print(records)\n",
        "        x_val = [x[0] for x in records]\n",
        "        y_val = [x[1] for x in records]\n",
        "\n",
        "        #print x_val\n",
        "        plt.plot(y_val,x_val)\n",
        "        plt.plot(y_val,x_val,'-',c = '#4CAF50')\n",
        "        plt.xlabel('Rating')\n",
        "        plt.ylabel('Hourly Rate')\n",
        "\n",
        "        plt.show()\n",
        "#\n",
        "except Error as e:\n",
        "    print(\"Error while connecting to MySQL\", e)"
      ]
    },
    {
      "cell_type": "markdown",
      "id": "f0ae7d84",
      "metadata": {
        "id": "f0ae7d84"
      },
      "source": [
        "**Hourly rate increases lineraly with rating**"
      ]
    },
    {
      "cell_type": "code",
      "execution_count": null,
      "id": "ab71de0e",
      "metadata": {
        "id": "ab71de0e",
        "outputId": "7afcb22e-3b6a-4561-f3da-064cc6a238db"
      },
      "outputs": [
        {
          "name": "stdout",
          "output_type": "stream",
          "text": [
            "Connected to MySQL Server version  8.0.31\n",
            "Your connected to database:  ('kids_crew_new',)\n",
            "[('morning', 34), ('night ', 17), ('noon', 17), ('evening', 32)]\n"
          ]
        },
        {
          "data": {
            "image/png": "[encoded data removed]",
            "text/plain": [
              "<Figure size 432x288 with 1 Axes>"
            ]
          },
          "metadata": {
            "needs_background": "light"
          },
          "output_type": "display_data"
        }
      ],
      "source": [
        "#Which age group demands more babysitting\n",
        "try:\n",
        "    connection = mysql.connector.connect(host='localhost',\n",
        "                                         database='kids_crew_new',\n",
        "                                         user='root',\n",
        "                                         password='root',\n",
        "                                         auth_plugin = 'mysql_native_password')\n",
        "    if connection.is_connected():\n",
        "        db_Info = connection.get_server_info()\n",
        "        print(\"Connected to MySQL Server version \", db_Info)\n",
        "        cursor = connection.cursor()\n",
        "        cursor.execute(\"select database();\")\n",
        "        record = cursor.fetchone()\n",
        "        print(\"Your connected to database: \", record)\n",
        "#\n",
        "        sql_select_Query = \"select availability,count(BID) from babysitter group by availability;\"\n",
        "        cursor = connection.cursor()\n",
        "        cursor.execute(sql_select_Query)\n",
        "        records = cursor.fetchall()\n",
        "        print(records)\n",
        "        x_val = [x[0] for x in records]\n",
        "        y_val = [x[1] for x in records]\n",
        "\n",
        "        #print x_val\n",
        "        plt.bar(x_val,y_val,color =['sandybrown', 'beige','lightgreen', 'plum'] )\n",
        "\n",
        "        plt.ylabel('Number of babysitters')\n",
        "        plt.xlabel('Availability')\n",
        "#\n",
        "except Error as e:\n",
        "    print(\"Error while connecting to MySQL\", e)"
      ]
    },
    {
      "cell_type": "code",
      "execution_count": null,
      "id": "95fa4879",
      "metadata": {
        "id": "95fa4879",
        "outputId": "faf3b940-0dfa-48a0-dccc-e5e7fecda6d7"
      },
      "outputs": [
        {
          "name": "stdout",
          "output_type": "stream",
          "text": [
            "Connected to MySQL Server version  8.0.31\n",
            "Your connected to database:  ('kids_crew_new',)\n"
          ]
        },
        {
          "data": {
            "image/png": "[encoded data removed]",
            "text/plain": [
              "<Figure size 432x288 with 1 Axes>"
            ]
          },
          "metadata": {
            "needs_background": "light"
          },
          "output_type": "display_data"
        }
      ],
      "source": [
        "#pickup_dropoff' and availability of babysitters \n",
        "try:\n",
        "    connection = mysql.connector.connect(host='localhost',\n",
        "                                         database='kids_crew_new',\n",
        "                                         user='root',\n",
        "                                         password='root',\n",
        "                                         auth_plugin = 'mysql_native_password')\n",
        "    if connection.is_connected():\n",
        "        db_Info = connection.get_server_info()\n",
        "        print(\"Connected to MySQL Server version \", db_Info)\n",
        "        cursor = connection.cursor()\n",
        "        cursor.execute(\"select database();\")\n",
        "        record = cursor.fetchone()\n",
        "        print(\"Your connected to database: \", record)\n",
        "#\n",
        "        sql_select_Query = \"select b1.availability, count(b1.bid) from babysitter b1, service_type s where b1.bid = s.bid and service= 'pickup_dropoff' and b1.availability = 'evening';\"\n",
        "        cursor = connection.cursor()\n",
        "        cursor.execute(sql_select_Query)\n",
        "        records = cursor.fetchall()\n",
        "        y = []\n",
        "        y1_val = [x[1] for x in records]\n",
        "        y.append(y1_val[0])\n",
        "        \n",
        "        sql_select_Query = \"select b1.availability,count(b1.bid) from babysitter b1, service_type s where b1.bid = s.bid and service= 'pickup_dropoff' and b1.availability = 'morning' ;\"\n",
        "        cursor = connection.cursor()\n",
        "        cursor.execute(sql_select_Query)\n",
        "        records = cursor.fetchall()\n",
        "        y2_val = [x[1] for x in records]\n",
        "        y.append(y2_val[0])\n",
        "        \n",
        "        sql_select_Query = \"select b1.availability,count(b1.bid) from babysitter b1, service_type s where b1.bid = s.bid and service= 'pickup_dropoff' and b1.availability = 'night';\"\n",
        "        cursor = connection.cursor()\n",
        "        cursor.execute(sql_select_Query)\n",
        "        records = cursor.fetchall()\n",
        "        y3_val = [x[1] for x in records]\n",
        "        y.append(y3_val[0])\n",
        "        \n",
        "        sql_select_Query = \"select b1.availability,count(b1.bid) from babysitter b1, service_type s where b1.bid = s.bid and service= 'pickup_dropoff' and b1.availability = 'noon';\"\n",
        "        cursor = connection.cursor()\n",
        "        cursor.execute(sql_select_Query)\n",
        "        records = cursor.fetchall()\n",
        "        y4_val = [x[1] for x in records]\n",
        "        y.append(y4_val[0])\n",
        "        \n",
        "        x = ['evening','morning','night','noon']\n",
        "        plt.bar(x, y, color = ['chocolate', 'wheat','powderblue', 'lavender'] )\n",
        "        plt.ylabel('Number of babysitters')\n",
        "        plt.xlabel('Availability for PickUp DropOff')\n",
        "        plt.show()\n",
        "\n",
        "        \n",
        "except Error as e:\n",
        "    print(\"Error while connecting to MySQL\", e)"
      ]
    },
    {
      "cell_type": "code",
      "execution_count": null,
      "id": "2882d953",
      "metadata": {
        "id": "2882d953",
        "outputId": "ef75de22-bbd4-4532-e275-c9336ada95df"
      },
      "outputs": [
        {
          "name": "stdout",
          "output_type": "stream",
          "text": [
            "Connected to MySQL Server version  8.0.31\n",
            "Your connected to database:  ('kids_crew_new',)\n",
            "[16, 18, 18, 20, 18, 16]\n",
            "['Police Officer', 'Subcontractor', 'Doctor', 'Subcontractor', 'Surgeon', 'Electrician']\n"
          ]
        },
        {
          "data": {
            "image/png": "[encoded data removed]",
            "text/plain": [
              "<Figure size 432x288 with 1 Axes>"
            ]
          },
          "metadata": {
            "needs_background": "light"
          },
          "output_type": "display_data"
        }
      ],
      "source": [
        "#boston babysitter rates with occupation\n",
        "try:\n",
        "    connection = mysql.connector.connect(host='localhost',\n",
        "                                         database='kids_crew_new',\n",
        "                                         user='root',\n",
        "                                         password='root',\n",
        "                                         auth_plugin = 'mysql_native_password')\n",
        "    if connection.is_connected():\n",
        "        db_Info = connection.get_server_info()\n",
        "        print(\"Connected to MySQL Server version \", db_Info)\n",
        "        cursor = connection.cursor()\n",
        "        cursor.execute(\"select database();\")\n",
        "        record = cursor.fetchone()\n",
        "        print(\"Your connected to database: \", record)\n",
        "#\n",
        "        sql_select_Query = \" SELECT bs1.hourly_rate, P.occupation FROM babysitter b, babysitting bs1, parent p WHERE b.BID=bs1.BID and b.PID = p.PID AND P.occupation in (select occupation from parent where city='boston') and bs1.hourly_rate > (SELECT AVG(bs2.hourly_rate) FROM babysitting bs2)and b.city='boston';\"  \n",
        "        cursor = connection.cursor()\n",
        "        cursor.execute(sql_select_Query)\n",
        "        r1 = cursor.fetchall()\n",
        "        x1 = [x[0] for x in r1]\n",
        "        print(x1)\n",
        "        y1 = [x[1] for x in r1]\n",
        "        print(y1)\n",
        "\n",
        "        plt.plot(y1,x1,color='lawngreen')\n",
        "        \n",
        "        plt.ylabel('Hourly Rate of Babysitter')\n",
        "        plt.xlabel('Parent Occupation')\n",
        "        plt.title(\"Boston Rates\")\n",
        "        plt.show()\n",
        "        \n",
        "except Error as e:\n",
        "    print(\"Error while connecting to MySQL\", e)"
      ]
    },
    {
      "cell_type": "code",
      "execution_count": null,
      "id": "f93c317e",
      "metadata": {
        "id": "f93c317e"
      },
      "outputs": [],
      "source": []
    }
  ],
  "metadata": {
    "kernelspec": {
      "display_name": "Python 3",
      "language": "python",
      "name": "python3"
    },
    "language_info": {
      "codemirror_mode": {
        "name": "ipython",
        "version": 3
      },
      "file_extension": ".py",
      "mimetype": "text/x-python",
      "name": "python",
      "nbconvert_exporter": "python",
      "pygments_lexer": "ipython3",
      "version": "3.8.8"
    },
    "colab": {
      "provenance": []
    }
  },
  "nbformat": 4,
  "nbformat_minor": 5
}